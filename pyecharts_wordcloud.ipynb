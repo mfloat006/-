{
 "cells": [
  {
   "cell_type": "code",
   "execution_count": 1,
   "metadata": {},
   "outputs": [
    {
     "name": "stderr",
     "output_type": "stream",
     "text": [
      "Building prefix dict from the default dictionary ...\n",
      "Loading model from cache C:\\Users\\mfloat\\AppData\\Local\\Temp\\jieba.cache\n",
      "Loading model cost 0.936 seconds.\n",
      "Prefix dict has been built successfully.\n"
     ]
    }
   ],
   "source": [
    "# 数据预处理\n",
    "def pre_text(file_path):\n",
    "    import jieba.analyse    \n",
    "    file_in = open(file_path, 'r')\n",
    "    content = file_in.read().encode('utf-8')\n",
    "    try:\n",
    "        jieba.analyse.set_stop_words('D:/code/anaconda/data/cn_stopwords.txt')\n",
    "        tags = jieba.analyse.extract_tags(content, topK=1000, withWeight=True)\n",
    "        return tags\n",
    "    finally:\n",
    "        file_in.close()\n",
    "path = 'D:/code/anaconda/data/三国演义.txt'    \n",
    "words = pre_text(path)"
   ]
  },
  {
   "cell_type": "code",
   "execution_count": 4,
   "metadata": {},
   "outputs": [
    {
     "name": "stderr",
     "output_type": "stream",
     "text": [
      "C:\\ProgramData\\Anaconda3\\lib\\site-packages\\pyecharts\\charts\\chart.py:14: PendingDeprecationWarning: pyecharts 所有图表类型将在 v1.9.0 版本开始强制使用 ChartItem 进行数据项配置 :)\n",
      "  super().__init__(init_opts=init_opts)\n"
     ]
    }
   ],
   "source": [
    "import os\n",
    "from pyecharts import options as opts\n",
    "from pyecharts.charts import WordCloud\n",
    "\n",
    "wordcloud = WordCloud()\n",
    "wordcloud.add(\"三国演义词云\", words, word_size_range=[12, 55])\n",
    "wordcloud.set_global_opts(title_opts=opts.TitleOpts(title=\"三国演义词云\"))\n",
    "# if not os.path.exists('三国演义词云.html'):\n",
    "wordcloud.render('三国演义词云.html')"
   ]
  },
  {
   "cell_type": "code",
   "execution_count": null,
   "metadata": {},
   "outputs": [],
   "source": [
    "# # 停用词\n",
    "# def pre_text(files):\n",
    "#     import pickle\n",
    "#     with open('D:/code/anaconda/data/cn_stopwords.txt', 'r', encoding='utf-8') as stp_words:\n",
    "#         stp_words = [i[:-1] for i in stp_words]\n",
    "#     import re\n",
    "#     reg = '''[(&nbsp;)|(\" \")|(r'，')|(\\\\-)|(\\\\、)|(\\\\。)|(\\\\：)|(\\\\？)|(\\\\（）)|(&nbsp;)|(<img.*?>)|(<br>)|(</br>)|(<br/>)|(<span.*?>)|(</span>)|(<p.*?>)|(</p >)|(<u.*?>)|(</u>)|(<sup.*?>)|(</sup>)|(<sub.*?>)|(</sub>)|(<font.*?>)|(</font>)|(<strong.*?>)|(</strong>)|(</underpoint>)|(<b>)|(</b>)|(\\s+)|(,)|(:)|(\\\\·)|(\\\\“)|(\\\\；)|(\\\\《)|(\\\\》)|(\\\\__)|(\\\\”)]'''\n",
    "#     text = []\n",
    "#     for file in files:\n",
    "#         text.append(re.sub(reg,'',file))\n",
    "#     import jieba\n",
    "#     text = jieba.cut(text)\n",
    "#     print(text)\n",
    "# #     result = \" \".join([w for w in text if w not in stp_words])\n",
    "# #     return result\n",
    "# with open('D:/code/anaconda/data/三国演义.txt','r') as files:\n",
    "#     text = pre_text(files)\n",
    "# # print(text)"
   ]
  }
 ],
 "metadata": {
  "kernelspec": {
   "display_name": "Python 3",
   "language": "python",
   "name": "python3"
  },
  "language_info": {
   "codemirror_mode": {
    "name": "ipython",
    "version": 3
   },
   "file_extension": ".py",
   "mimetype": "text/x-python",
   "name": "python",
   "nbconvert_exporter": "python",
   "pygments_lexer": "ipython3",
   "version": "3.7.6"
  }
 },
 "nbformat": 4,
 "nbformat_minor": 4
}
